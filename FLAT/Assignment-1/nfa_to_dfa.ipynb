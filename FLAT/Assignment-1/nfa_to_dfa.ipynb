{
 "cells": [
  {
   "cell_type": "markdown",
   "metadata": {},
   "source": [
    "# FLAT Assignment #1: Epsilon NFA to DFA Conversion Program\n",
    "### Submitted by: Aman Pratap Singh, 16CS01011"
   ]
  },
  {
   "cell_type": "markdown",
   "metadata": {},
   "source": [
    "## Algorithm of convesion:\n",
    "\n",
    "1. Take ∈ closure for the beginning state of NFA as beginning state of DFA.\n",
    "2. Find the states that can be traversed from the present for each input symbol\n",
    "(union of transition value and their closures for each states of NFA present in current state of DFA).\n",
    "3. If any new state is found take it as current state and repeat step 2.\n",
    "4. Do repeat Step 2 and Step 3 until no new state present in DFA transition table.\n",
    "5. Mark the states of DFA which contains final state of NFA as final states of DFA."
   ]
  },
  {
   "cell_type": "markdown",
   "metadata": {},
   "source": [
    "Import required Modules"
   ]
  },
  {
   "cell_type": "code",
   "execution_count": 1,
   "metadata": {},
   "outputs": [],
   "source": [
    "import queue\n",
    "import json"
   ]
  },
  {
   "cell_type": "markdown",
   "metadata": {},
   "source": [
    "Alphabets available in language are: 0, 1 and epsilon"
   ]
  },
  {
   "cell_type": "code",
   "execution_count": 3,
   "metadata": {},
   "outputs": [
    {
     "name": "stdin",
     "output_type": "stream",
     "text": [
      "Enter number of NFA States:  3\n"
     ]
    }
   ],
   "source": [
    "# No. of states available in NFA\n",
    "nfa_states_count = int(input(\"Enter number of NFA States: \"))"
   ]
  },
  {
   "cell_type": "code",
   "execution_count": 4,
   "metadata": {},
   "outputs": [
    {
     "name": "stdout",
     "output_type": "stream",
     "text": [
      "Created following NFA states:\n",
      "A\n",
      "B\n",
      "C\n",
      "\n",
      "\n"
     ]
    }
   ],
   "source": [
    "nfa = dict()\n",
    "\n",
    "print(\"Created following NFA states:\"),\n",
    "for i in range(nfa_states_count):\n",
    "    nfa[chr(ord('A') + i)] = dict()\n",
    "    nfa[chr(ord('A') + i)]['0'] = list()\n",
    "    nfa[chr(ord('A') + i)]['1'] = list()\n",
    "    nfa[chr(ord('A') + i)]['eps'] = list()\n",
    "    print(chr(ord('A') + i)),\n",
    "print(\"\\n\")"
   ]
  },
  {
   "cell_type": "markdown",
   "metadata": {},
   "source": [
    "Enter space seperated states corresponding to transition. For e.g. A B C etc.\n",
    "Leave empty if no state is present corresponding to transition."
   ]
  },
  {
   "cell_type": "code",
   "execution_count": 6,
   "metadata": {},
   "outputs": [
    {
     "name": "stdin",
     "output_type": "stream",
     "text": [
      "A->0:  B C\n",
      "A->1:  A\n",
      "A->eps:  B\n",
      "B->0:  \n",
      "B->1:  B\n",
      "B->eps:  C\n",
      "C->0:  C\n",
      "C->1:  C\n",
      "C->eps:  \n"
     ]
    }
   ],
   "source": [
    "for key, value in nfa.items():\n",
    "    nfa[key]['0'] = str(input(\"%s->0: \" % key)).split()\n",
    "    nfa[key]['1'] = str(input(\"%s->1: \" % key)).split()\n",
    "    nfa[key]['eps'] = str(input(\"%s->eps: \" % key)).split()"
   ]
  },
  {
   "cell_type": "markdown",
   "metadata": {},
   "source": [
    "The Epsilon NFA is: "
   ]
  },
  {
   "cell_type": "code",
   "execution_count": 7,
   "metadata": {},
   "outputs": [
    {
     "name": "stdout",
     "output_type": "stream",
     "text": [
      "{\n",
      "    \"A\": {\n",
      "        \"0\": [\n",
      "            \"B\",\n",
      "            \"C\"\n",
      "        ],\n",
      "        \"1\": [\n",
      "            \"A\"\n",
      "        ],\n",
      "        \"eps\": [\n",
      "            \"B\"\n",
      "        ]\n",
      "    },\n",
      "    \"B\": {\n",
      "        \"0\": [],\n",
      "        \"1\": [\n",
      "            \"B\"\n",
      "        ],\n",
      "        \"eps\": [\n",
      "            \"C\"\n",
      "        ]\n",
      "    },\n",
      "    \"C\": {\n",
      "        \"0\": [\n",
      "            \"C\"\n",
      "        ],\n",
      "        \"1\": [\n",
      "            \"C\"\n",
      "        ],\n",
      "        \"eps\": []\n",
      "    }\n",
      "}\n"
     ]
    }
   ],
   "source": [
    "print(json.dumps(nfa, sort_keys=True, indent=4))"
   ]
  },
  {
   "cell_type": "code",
   "execution_count": 8,
   "metadata": {},
   "outputs": [
    {
     "name": "stdin",
     "output_type": "stream",
     "text": [
      "Enter NFA's Start State:  A\n",
      "Enter NFA's Final State:  C\n"
     ]
    }
   ],
   "source": [
    "start = str(input(\"Enter NFA's Start State: \"))\n",
    "final = str(input(\"Enter NFA's Final State: \"))"
   ]
  },
  {
   "cell_type": "code",
   "execution_count": 12,
   "metadata": {},
   "outputs": [],
   "source": [
    "# Create DFA\n",
    "dfa = dict()\n",
    "eps_closure_start = set()\n",
    "\n",
    "q = queue.Queue()\n",
    "q.put(start)\n",
    "visited = []\n",
    "\n",
    "while not q.empty():\n",
    "    current = q.get()\n",
    "    visited.append(current)\n",
    "    for state in nfa[current]['eps']:\n",
    "        eps_closure_start.add(state)\n",
    "        if state not in visited:\n",
    "            q.put(state)\n",
    "\n",
    "# Add epsilon transition in start state\n",
    "final_start = start\n",
    "for state in eps_closure_start:\n",
    "    final_start = final_start + state\n",
    "final_start = \"\".join(sorted(set(final_start)))\n",
    "\n",
    "\n",
    "dfa = dict()\n",
    "dfa_q = queue.Queue()\n",
    "dfa_q.put(final_start)\n",
    "final_visited = list()\n",
    "final_visited.append(final_start)\n",
    "\n",
    "while not dfa_q.empty():\n",
    "    state = dfa_q.get()\n",
    "    if not state in dfa:\n",
    "        dfa[state] = dict()\n",
    "    this_state = \"\"\n",
    "    for alphabet in state:\n",
    "        for alphabet_state in nfa[alphabet][\"0\"]:\n",
    "            this_state = this_state + alphabet_state\n",
    "            for eps_state in nfa[alphabet_state][\"eps\"]:\n",
    "                this_state = this_state + eps_state\n",
    "    this_state = \"\".join(sorted(set(this_state)))\n",
    "\n",
    "    if this_state not in final_visited and this_state != \"\":\n",
    "        final_visited.append(this_state)\n",
    "        dfa_q.put(this_state)\n",
    "    dfa[state][\"0\"] = this_state\n",
    "    this_state = \"\"\n",
    "    for alphabet in state:\n",
    "        for alphabet_state in nfa[alphabet][\"1\"]:\n",
    "            this_state = this_state + alphabet_state\n",
    "            for eps_state in nfa[alphabet_state][\"eps\"]:\n",
    "                this_state = this_state + eps_state\n",
    "    this_state = \"\".join(sorted(set(this_state)))\n",
    "    if this_state not in final_visited and this_state != \"\":\n",
    "        final_visited.append(this_state)\n",
    "        dfa_q.put(this_state)\n",
    "    dfa[state][\"1\"] = this_state\n",
    "\n",
    "dfa_final_states = list()\n",
    "for key in dfa:\n",
    "    if final in key:\n",
    "        dfa_final_states.append(key)"
   ]
  },
  {
   "cell_type": "markdown",
   "metadata": {},
   "source": [
    "## The DFA is:"
   ]
  },
  {
   "cell_type": "code",
   "execution_count": 13,
   "metadata": {},
   "outputs": [
    {
     "name": "stdout",
     "output_type": "stream",
     "text": [
      "{\n",
      "    \"ABC\": {\n",
      "        \"0\": \"BC\",\n",
      "        \"1\": \"ABC\"\n",
      "    },\n",
      "    \"BC\": {\n",
      "        \"0\": \"C\",\n",
      "        \"1\": \"BC\"\n",
      "    },\n",
      "    \"C\": {\n",
      "        \"0\": \"C\",\n",
      "        \"1\": \"C\"\n",
      "    }\n",
      "}\n",
      "DFA Start state: ABC\n",
      "DFA Final states: ['ABC', 'BC', 'C']\n"
     ]
    }
   ],
   "source": [
    "print(json.dumps(dfa, sort_keys=True, indent=4))\n",
    "print(\"DFA Start state: %s\" % final_start)\n",
    "print(\"DFA Final states: %s\" % dfa_final_states)"
   ]
  }
 ],
 "metadata": {
  "kernelspec": {
   "display_name": "Python 3",
   "language": "python",
   "name": "python3"
  },
  "language_info": {
   "codemirror_mode": {
    "name": "ipython",
    "version": 3
   },
   "file_extension": ".py",
   "mimetype": "text/x-python",
   "name": "python",
   "nbconvert_exporter": "python",
   "pygments_lexer": "ipython3",
   "version": "3.6.6"
  }
 },
 "nbformat": 4,
 "nbformat_minor": 2
}
